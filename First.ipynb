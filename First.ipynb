{
  "nbformat": 4,
  "nbformat_minor": 0,
  "metadata": {
    "colab": {
      "name": "Untitled0.ipynb",
      "provenance": [],
      "collapsed_sections": [],
      "toc_visible": true,
      "authorship_tag": "ABX9TyP1Rb9vKgespdb8kEQODMP9",
      "include_colab_link": true
    },
    "kernelspec": {
      "name": "python3",
      "display_name": "Python 3"
    },
    "language_info": {
      "name": "python"
    }
  },
  "cells": [
    {
      "cell_type": "markdown",
      "metadata": {
        "id": "view-in-github",
        "colab_type": "text"
      },
      "source": [
        "<a href=\"https://colab.research.google.com/github/nishant-out/Graphs/blob/main/First.ipynb\" target=\"_parent\"><img src=\"https://colab.research.google.com/assets/colab-badge.svg\" alt=\"Open In Colab\"/></a>"
      ]
    },
    {
      "cell_type": "markdown",
      "source": [
        "# **Hello World**"
      ],
      "metadata": {
        "id": "aN1CSzaDO0_M"
      }
    },
    {
      "cell_type": "code",
      "execution_count": 63,
      "metadata": {
        "colab": {
          "base_uri": "https://localhost:8080/"
        },
        "id": "H38FGeAKLEqQ",
        "outputId": "55bb382d-2cef-40e4-efb1-55b0eae3da71"
      },
      "outputs": [
        {
          "output_type": "execute_result",
          "data": {
            "text/plain": [
              "NodeView((1, 2, 3, 4, 5))"
            ]
          },
          "metadata": {},
          "execution_count": 63
        }
      ],
      "source": [
        "import networkx as nx\n",
        "\n",
        "G = nx.Graph()\n",
        "G.add_node( 1 )\n",
        "G.add_node( 2 )\n",
        "G.add_node( 3 )\n",
        "G.add_node( 4 )\n",
        "G.add_node( 5 )\n",
        "# x = 5\n",
        "G.nodes()"
      ]
    },
    {
      "cell_type": "code",
      "source": [
        "G.add_edge( 1,2 )\n",
        "G.add_edge( 2,3 )\n",
        "G.add_edge( 3,4 )\n",
        "G.add_edge( 4,5 )\n",
        "G.add_edge( 4,6 ) # implicitly creates node 6\n",
        "\n",
        "G.nodes()\n",
        "print( \":\\n\" + str(x) )\n",
        "G.edges()"
      ],
      "metadata": {
        "colab": {
          "base_uri": "https://localhost:8080/"
        },
        "id": "N_qPRftTPor4",
        "outputId": "fb872b83-8f6b-416a-864e-b47eb1d57743"
      },
      "execution_count": 69,
      "outputs": [
        {
          "output_type": "stream",
          "name": "stdout",
          "text": [
            ":\n",
            "5\n"
          ]
        }
      ]
    },
    {
      "cell_type": "code",
      "source": [
        "import matplotlib.pyplot as plt\n",
        "\n",
        "# nx.draw(G)  # unlabled graph\n",
        "nx.draw(G, with_labels=1 )\n",
        "\n"
      ],
      "metadata": {
        "colab": {
          "base_uri": "https://localhost:8080/",
          "height": 319
        },
        "id": "1ns3tWjQRu4D",
        "outputId": "17e60497-f480-480c-eff0-bde35babedc2"
      },
      "execution_count": 73,
      "outputs": [
        {
          "output_type": "display_data",
          "data": {
            "image/png": "[encoded data removed]",
            "text/plain": [
              "<Figure size 432x288 with 1 Axes>"
            ]
          },
          "metadata": {}
        }
      ]
    },
    {
      "cell_type": "code",
      "source": [
        "H = nx.Graph()\n",
        "H.add_node( 1 )\n",
        "H.add_node( 2 )\n",
        "H.add_node( 3 )\n",
        "H.add_node( 4 )\n",
        "H.add_node( 5 )\n",
        "\n",
        "H.nodes()\n",
        "\n",
        "H.add_edge( 1,2 )\n",
        "H.add_edge( 1,3 )\n",
        "H.add_edge( 1,4 )\n",
        "H.add_edge( 1,5 )\n",
        "\n",
        "H.edges()\n",
        "\n",
        "# nx.draw(H, with_labels=1)\n",
        "\n",
        "nx.draw(H, with_labels=1, node_color='g') # used to make colors"
      ],
      "metadata": {
        "colab": {
          "base_uri": "https://localhost:8080/",
          "height": 319
        },
        "id": "SfRVS4noT-ls",
        "outputId": "a3f43c96-396a-41e0-c617-5c7152f69d55"
      },
      "execution_count": 80,
      "outputs": [
        {
          "output_type": "display_data",
          "data": {
            "image/png": "[encoded data removed]",
            "text/plain": [
              "<Figure size 432x288 with 1 Axes>"
            ]
          },
          "metadata": {}
        }
      ]
    }
  ]
}